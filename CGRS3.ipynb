{
 "cells": [
  {
   "cell_type": "code",
   "execution_count": 1,
   "metadata": {},
   "outputs": [],
   "source": [
    "import pandas as pd\n",
    "import matplotlib.pyplot as plt\n",
    "import numpy as np\n",
    "from operator import itemgetter\n",
    "import random\n",
    "import sys\n",
    "import time\n",
    "from IPython.display import clear_output"
   ]
  },
  {
   "cell_type": "code",
   "execution_count": 2,
   "metadata": {},
   "outputs": [
    {
     "name": "stdout",
     "output_type": "stream",
     "text": [
      "   user_id  item_id  rating  timestamp\n",
      "0      259      255       4  874724710\n",
      "1      259      286       4  874724727\n",
      "2      259      298       4  874724754\n",
      "3      259      185       4  874724781\n",
      "4      259      173       4  874724843\n",
      "5      259      772       4  874724882\n",
      "6      259      108       4  874724882\n",
      "7      259      288       3  874724905\n",
      "8      259      928       4  874724937\n",
      "9      259      117       4  874724988\n",
      "(100000, 4)\n"
     ]
    }
   ],
   "source": [
    "ratings = pd.read_csv(\"dataset/MovieLens100K\",sep=\" \",names=[\"user_id\",\"item_id\",\"rating\",\"timestamp\"])\n",
    "print(ratings.head(10))\n",
    "print(ratings.shape)"
   ]
  },
  {
   "cell_type": "code",
   "execution_count": 3,
   "metadata": {},
   "outputs": [],
   "source": [
    "USERS,ITEMS = ratings.nunique()[:2]\n",
    "\n",
    "RATINGS = ratings.shape[0]\n",
    "profiles = [ [] for i in range(USERS) ]\n",
    "profiles_train = [ [] for i in range(USERS) ]\n",
    "profiles_test = [ {} for i in range(USERS) ]\n",
    "V = [ {} for i in range(USERS) ]\n",
    "\n",
    "support = [0]*ITEMS\n",
    "for index,row in ratings.iterrows():\n",
    "  profiles[row['user_id']-1].append(row['item_id']-1)\n",
    "  \n",
    "for profile in profiles:\n",
    "  for item in profile:\n",
    "    support[item] += 1"
   ]
  },
  {
   "cell_type": "code",
   "execution_count": 4,
   "metadata": {},
   "outputs": [],
   "source": [
    "precedenceCount = [ [0]*ITEMS for i in range(ITEMS) ]\n",
    "for profile in profiles:\n",
    "  for i in range(len(profile)):\n",
    "    for j in range(i+1,len(profile)):\n",
    "      precedenceCount[profile[i]][profile[j]] += 1"
   ]
  },
  {
   "cell_type": "code",
   "execution_count": 5,
   "metadata": {},
   "outputs": [],
   "source": [
    "def scoreP(profile,item):\n",
    "  pp = []\n",
    "  top_l = 2\n",
    "  for l in profile:\n",
    "    pp.append(precedenceCount[l][item]/support[l])\n",
    "  pp.sort(reverse=True)\n",
    "  sc = support[item]/USERS\n",
    "  for p in pp[:top_l]:\n",
    "    sc *= p\n",
    "  return sc\n",
    "\n",
    "def scoreR(profile,item):\n",
    "  pp = []\n",
    "  top_l = 2\n",
    "  for l in profile:\n",
    "    pp.append(profile[l]*precedenceCount[l][item]/support[l])\n",
    "  pp.sort(reverse=True)\n",
    "  sc = support[item]/USERS\n",
    "  for p in pp[:top_l]:\n",
    "    sc *= p\n",
    "  return sc"
   ]
  },
  {
   "cell_type": "code",
   "execution_count": 6,
   "metadata": {},
   "outputs": [],
   "source": [
    "def evaluate( group,recommendations,top_K,group_items ):\n",
    "  prec_k = [0]*top_K\n",
    "  rec_k = [0]*top_K\n",
    "  for user in group:\n",
    "    k = 0\n",
    "    rec_used = 0\n",
    "    used  = 0\n",
    "    for item in profiles_test[user]:\n",
    "      if item not in group_items:\n",
    "        used += 1\n",
    "    if used == 0:\n",
    "      continue\n",
    "    for item in recommendations:\n",
    "      if item in profiles_test[user]:\n",
    "        rec_used += 1\n",
    "      prec_k[k] += rec_used/(k+1)\n",
    "      rec_k[k] += rec_used/used\n",
    "      k+=1\n",
    "  return prec_k,rec_k"
   ]
  },
  {
   "cell_type": "code",
   "execution_count": 7,
   "metadata": {},
   "outputs": [],
   "source": [
    "def conformal( profile_wt , profile ,precedenceCount , rec_candidates , Epsilon , top_K , group , G):\n",
    "  n = len(profile)\n",
    "  recommendations = {}\n",
    "  \n",
    "  Vg = set()\n",
    "  for user in group:\n",
    "    for v in V[user]:\n",
    "      Vg.add(v)\n",
    "  \n",
    "  avg_r = sum(rec_candidates.values())/len(rec_candidates)\n",
    "  avg_p = sum(profile_wt.values())/n\n",
    "  scale = avg_p/avg_r\n",
    "  \n",
    "  for r in rec_candidates:\n",
    "    avg_p = 0\n",
    "    p_vec = []\n",
    "    for v in Vg:\n",
    "      p = 0\n",
    "      pp_nv =  rec_candidates[r]* scale * precedenceCount[r][v]/support[r]\n",
    "      for item in profile:\n",
    "        if profile_wt[item]*precedenceCount[item][v]/support[item] <= pp_nv:\n",
    "          p += 1\n",
    "      p /= max(1,len(profile) )\n",
    "      avg_p += p\n",
    "    recommendations[r] = avg_p\n",
    "  recommendations  = dict(sorted(recommendations.items(),key=itemgetter(1),reverse=True)[:top_K])\n",
    "\n",
    "  return recommendations"
   ]
  },
  {
   "cell_type": "code",
   "execution_count": 8,
   "metadata": {},
   "outputs": [],
   "source": [
    "def main( G,top_K,Rounds ):\n",
    "  avg_prec_k = [0]*top_K\n",
    "  avg_rec_k = [0]*top_K\n",
    "  avg_cprec_k = [0]*top_K\n",
    "  avg_crec_k = [0]*top_K\n",
    "  \n",
    "  \n",
    "  for run in range(Rounds):\n",
    "    \n",
    "    prec_k = [0]*top_K\n",
    "    rec_k = [0]*top_K\n",
    "    cprec_k = [0]*top_K\n",
    "    crec_k = [0]*top_K\n",
    "      \n",
    "    for user in range(USERS):\n",
    "      n = len(profiles[user])\n",
    "      profiles_train[user] = profiles[user][:n*45//100]\n",
    "      temp = profiles[user][n*45//100:]\n",
    "      random.shuffle(temp)\n",
    "      V[user] = temp[:n*15//100]\n",
    "      profiles_test[user] = set(temp[n*15//100:])\n",
    "    \n",
    "    r = [ i for i in range(USERS) ]\n",
    "    random.shuffle(r)\n",
    "    groups = [ [ r[G*i+j] for j in range(G) ] for i in range(USERS//G) ] \n",
    "    G_count = USERS//G\n",
    "    ins = 0\n",
    "    \n",
    "    for group in groups:\n",
    "      for user in group:\n",
    "        for item1 in profiles_test[user]:\n",
    "          support[item1] -= 1\n",
    "          for item2 in profiles_train[user]:\n",
    "            precedenceCount[item2][item1] -= 1  \n",
    "      \n",
    "      group_items = set({})\n",
    "      for user in group:\n",
    "        for item in profiles_train[user]:\n",
    "          group_items.add(item)\n",
    "      \n",
    "      Vg = {} #virtual profile\n",
    "      Vl = []\n",
    "      for item in group_items:\n",
    "        item_score = 0\n",
    "        for user in group:\n",
    "          if item in profiles_train[user]:\n",
    "            item_score += 1\n",
    "          else:\n",
    "            item_score += scoreP(profiles_train[user],item)\n",
    "        Vg[item] = item_score/G\n",
    "        Vl.append(item)\n",
    "      # Virtual Profile Created\n",
    "      \n",
    "      rec_candidates = {}\n",
    "      for item in range(ITEMS):\n",
    "        if item not in group_items and support[item] > 0:\n",
    "          rec_candidates[item] = scoreR(Vg,item)\n",
    "      recommendations = dict(sorted(rec_candidates.items(),key=itemgetter(1),reverse=True)[:top_K])\n",
    "      \n",
    "      prec,rec = evaluate(group,recommendations,top_K,group_items)      \n",
    "      for i in range(top_K):\n",
    "        prec_k[i] += prec[i]\n",
    "        rec_k[i] += rec[i]\n",
    "      \n",
    "      rec_candidates = dict(sorted(rec_candidates.items(),key=itemgetter(1),reverse=True))\n",
    "      recommendations = conformal( Vg , Vl ,precedenceCount , rec_candidates , None , top_K , group , G )\n",
    "      cprec,crec = evaluate(group,recommendations,top_K,group_items)  \n",
    "      \n",
    "      for i in range(top_K):\n",
    "        cprec_k[i] += cprec[i]\n",
    "        crec_k[i] += crec[i]\n",
    "      \n",
    "      for user in group:\n",
    "        for item1 in profiles_test[user]:\n",
    "          support[item1] += 1\n",
    "          for item2 in profiles_train[user]:\n",
    "            precedenceCount[item2][item1] += 1 \n",
    "      \n",
    "      ins += G\n",
    "      clear_output()\n",
    "      print(\"Instance :\",ins)\n",
    "      print(\"Run :\",run+1)\n",
    "      \n",
    "    for i in range(top_K):\n",
    "      avg_prec_k[i] += prec_k[i]/USERS\n",
    "      avg_rec_k[i] += rec_k[i]/USERS\n",
    "    \n",
    "    for i in range(top_K):\n",
    "      avg_cprec_k[i] += cprec_k[i]/USERS\n",
    "      avg_crec_k[i] += crec_k[i]/USERS\n",
    "  \n",
    "  for i in range(top_K):\n",
    "    avg_prec_k[i] /= Rounds\n",
    "    avg_rec_k[i] /= Rounds\n",
    "  \n",
    "  for i in range(top_K):\n",
    "    avg_cprec_k[i] /= Rounds\n",
    "    avg_crec_k[i] /= Rounds\n",
    "  \n",
    "  return avg_prec_k,avg_rec_k,avg_cprec_k,avg_crec_k"
   ]
  },
  {
   "cell_type": "markdown",
   "metadata": {},
   "source": [
    "# Comparison of precision and conformal precision  for group sizes 3"
   ]
  },
  {
   "cell_type": "code",
   "execution_count": 17,
   "metadata": {},
   "outputs": [],
   "source": [
    "def plot( data ,n,k):\n",
    "  prec,rec,cprec,crec = data\n",
    "  prec,rec,cprec,crec = prec[:n],rec[:n],cprec[:n],crec[:n]\n",
    "  labels = [ i+1 for i in range(len(prec)) ]\n",
    "\n",
    "  x = np.arange(len(labels))  # the label locations\n",
    "  width = 0.35  # the width of the bars\n",
    "\n",
    "  fig, ax = plt.subplots()\n",
    "  rects1 = ax.bar(x - width/2, prec , width, label=\"GRS\")\n",
    "  rects2 = ax.bar(x + width/2, cprec , width, label=\"Conformal GRS\")\n",
    "\n",
    "  # Add some text for labels, title and custom x-axis tick labels, etc.\n",
    "  ax.set_ylabel(\"precision\")\n",
    "  ax.set_xlabel('top-k')\n",
    "  ax.set_xticks(x)\n",
    "  ax.set_xticklabels(labels)\n",
    "  ax.legend()\n",
    "\n",
    "  plt.ylim(min(min(prec),min(cprec))-.001)\n",
    "  \n",
    "  fig.tight_layout()\n",
    "\n",
    "  plt.show()\n",
    "  \n",
    "  labels = [ i+1 for i in range(k) ]\n",
    "  fig, ax = plt.subplots()\n",
    "  rects1 = ax.bar(x - width/2, rec , width, label=\"GRS\")\n",
    "  rects2 = ax.bar(x + width/2, crec , width, label=\"Conformal GRS\")\n",
    "\n",
    "  # Add some text for labels, title and custom x-axis tick labels, etc.\n",
    "  ax.set_ylabel(\"recall\")\n",
    "  ax.set_xlabel('top-k')\n",
    "  ax.set_xticks(x)\n",
    "  ax.set_xticklabels(labels)\n",
    "  ax.legend()\n",
    "\n",
    "  plt.ylim(min(min(rec),min(crec))-.0001)\n",
    "  \n",
    "  fig.tight_layout()\n",
    "\n",
    "  plt.show()"
   ]
  },
  {
   "cell_type": "code",
   "execution_count": 10,
   "metadata": {},
   "outputs": [
    {
     "name": "stdout",
     "output_type": "stream",
     "text": [
      "Instance : 942\n",
      "Run : 5\n"
     ]
    }
   ],
   "source": [
    "g3 = main(3,50,5)"
   ]
  },
  {
   "cell_type": "code",
   "execution_count": 18,
   "metadata": {},
   "outputs": [
    {
     "data": {
      "image/png": "[encoded data removed]",
      "text/plain": [
       "<Figure size 432x288 with 1 Axes>"
      ]
     },
     "metadata": {
      "needs_background": "light"
     },
     "output_type": "display_data"
    },
    {
     "data": {
      "image/png": "[encoded data removed]",
      "text/plain": [
       "<Figure size 432x288 with 1 Axes>"
      ]
     },
     "metadata": {
      "needs_background": "light"
     },
     "output_type": "display_data"
    }
   ],
   "source": [
    "plot(g3,25,50)"
   ]
  }
 ],
 "metadata": {
  "kernelspec": {
   "display_name": "Python 3",
   "language": "python",
   "name": "python3"
  },
  "language_info": {
   "codemirror_mode": {
    "name": "ipython",
    "version": 3
   },
   "file_extension": ".py",
   "mimetype": "text/x-python",
   "name": "python",
   "nbconvert_exporter": "python",
   "pygments_lexer": "ipython3",
   "version": "3.7.1"
  }
 },
 "nbformat": 4,
 "nbformat_minor": 4
}
