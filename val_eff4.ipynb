{
 "cells": [
  {
   "cell_type": "code",
   "execution_count": 1,
   "metadata": {},
   "outputs": [],
   "source": [
    "import pandas as pd\n",
    "import matplotlib.pyplot as plt\n",
    "import numpy as np\n",
    "from operator import itemgetter\n",
    "import random\n",
    "import sys\n",
    "from IPython.display import clear_output"
   ]
  },
  {
   "cell_type": "code",
   "execution_count": 2,
   "metadata": {},
   "outputs": [],
   "source": [
    "ratings = pd.read_csv(\"dataset/MovieLens100K\",sep=\" \",names=[\"user_id\",\"item_id\",\"rating\",\"timestamp\"])"
   ]
  },
  {
   "cell_type": "code",
   "execution_count": 3,
   "metadata": {},
   "outputs": [],
   "source": [
    "USERS,ITEMS = ratings.nunique()[:2]\n",
    "RATINGS = ratings.shape[0]\n",
    "profiles = [ [] for i in range(USERS) ]\n",
    "profiles_train = [ [] for i in range(USERS) ]\n",
    "profiles_test = [ {} for i in range(USERS) ]\n",
    "V = [ {} for i in range(USERS) ]\n",
    "\n",
    "support = [0]*ITEMS\n",
    "for index,row in ratings.iterrows():\n",
    "  profiles[row['user_id']-1].append(row['item_id']-1)\n",
    "  \n",
    "for profile in profiles:\n",
    "  for item in profile:\n",
    "    support[item] += 1"
   ]
  },
  {
   "cell_type": "code",
   "execution_count": 4,
   "metadata": {},
   "outputs": [],
   "source": [
    "precedenceCount = [ [0]*ITEMS for i in range(ITEMS) ]\n",
    "for profile in profiles:\n",
    "  for i in range(len(profile)):\n",
    "    for j in range(i+1,len(profile)):\n",
    "      precedenceCount[profile[i]][profile[j]] += 1"
   ]
  },
  {
   "cell_type": "code",
   "execution_count": 5,
   "metadata": {},
   "outputs": [],
   "source": [
    "def scoreP(profile,item):\n",
    "  pp = []\n",
    "  top_l = 2\n",
    "  for l in profile:\n",
    "    pp.append(precedenceCount[l][item]/support[l])\n",
    "  pp.sort(reverse=True)\n",
    "  sc = support[item]/USERS\n",
    "  for p in pp[:top_l]:\n",
    "    sc *= p\n",
    "  return sc\n",
    "\n",
    "def scoreR(profile,item):\n",
    "  pp = []\n",
    "  top_l = 2\n",
    "  for l in profile:\n",
    "    pp.append(profile[l]*precedenceCount[l][item]/support[l])\n",
    "  pp.sort(reverse=True)\n",
    "  sc = support[item]/USERS\n",
    "  for p in pp[:top_l]:\n",
    "    sc *= p\n",
    "  return sc"
   ]
  },
  {
   "cell_type": "code",
   "execution_count": 6,
   "metadata": {},
   "outputs": [],
   "source": [
    "def conformal( profile_wt , profile ,precedenceCount , rec_candidates , Epsilon , top_K ,group , G):\n",
    "  n = len(profile)\n",
    "  recommendations = {}\n",
    "  \n",
    "  Vg = set()\n",
    "  for user in group:\n",
    "    for v in V[user]:\n",
    "      Vg.add(v)\n",
    "  \n",
    "  avg_r = sum(rec_candidates.values())/len(rec_candidates)\n",
    "  avg_p = sum(profile_wt.values())/n\n",
    "  scale = avg_p/avg_r\n",
    "  \n",
    "  for r in rec_candidates:\n",
    "    avg_p = 0\n",
    "    p_vec = []\n",
    "    for v in Vg:\n",
    "      p = 0\n",
    "      pp_nv =  rec_candidates[r]* scale * precedenceCount[r][v]/support[r]\n",
    "      for item in profile:\n",
    "        if profile_wt[item]*precedenceCount[item][v]/support[item] <= pp_nv:\n",
    "          p += 1\n",
    "      p /= max(1,len(profile) )\n",
    "      avg_p += p\n",
    "    recommendations[r] = avg_p/len(Vg)\n",
    "\n",
    "  return recommendations"
   ]
  },
  {
   "cell_type": "code",
   "execution_count": 7,
   "metadata": {},
   "outputs": [],
   "source": [
    "def main( G,top_K,Rounds ):  \n",
    "  epsilon = [.05*i for i in range(21)]\n",
    "  validity = {ep:0  for ep in epsilon }\n",
    "  efficiency = {ep:0  for ep in epsilon }\n",
    "  \n",
    "  for run in range(Rounds):\n",
    "    \n",
    "    for user in range(USERS):\n",
    "      n = len(profiles[user])\n",
    "      profiles_train[user] = profiles[user][:n*45//100]\n",
    "      temp = profiles[user][n*45//100:]\n",
    "      random.shuffle(temp)\n",
    "      V[user] = temp[:n*15//100]\n",
    "      profiles_test[user] = set(temp[n*15//100:])\n",
    "    \n",
    "    r = [ i for i in range(USERS) ]\n",
    "    random.shuffle(r)\n",
    "    groups = [ [ r[G*i+j] for j in range(G) ] for i in range(USERS//G) ] \n",
    "    ins =0 \n",
    "    \n",
    "    for group in groups:\n",
    "      \n",
    "      for user in group:\n",
    "        for item1 in profiles_test[user]:\n",
    "          support[item1] -= 1\n",
    "          for item2 in profiles_train[user]:\n",
    "            precedenceCount[item2][item1] -= 1  \n",
    "      \n",
    "      group_items = set({})\n",
    "      for user in group:\n",
    "        for item in profiles_train[user]:\n",
    "          group_items.add(item)\n",
    "      \n",
    "      Vg = {} #virtual profile\n",
    "      Vl = []\n",
    "      for item in group_items:\n",
    "        item_score = 0\n",
    "        for user in group:\n",
    "          if item in profiles_train[user]:\n",
    "            item_score += 1\n",
    "          else:\n",
    "            item_score += scoreP(profiles_train[user],item)\n",
    "        Vg[item] = item_score/G\n",
    "        Vl.append(item)\n",
    "      # Virtual Profile Created\n",
    "      \n",
    "      rec_candidates = {}\n",
    "      for item in range(ITEMS):\n",
    "        if item not in group_items and support[item] > 0:\n",
    "          rec_candidates[item] = scoreR(Vg,item)      \n",
    "      \n",
    "      rec_candidates = dict(sorted(rec_candidates.items(),key=itemgetter(1),reverse=True))\n",
    "      p_val = conformal( Vg , Vl ,precedenceCount , rec_candidates , None , top_K , group , G ) \n",
    "#       print(p_val)\n",
    "      \n",
    "      for user in group:\n",
    "        for item1 in profiles_test[user]:\n",
    "          support[item1] += 1\n",
    "          for item2 in profiles_train[user]:\n",
    "            precedenceCount[item2][item1] += 1  \n",
    "            \n",
    "      for user in group:\n",
    "        for ep in epsilon:\n",
    "          for item in p_val:\n",
    "            if p_val[item] <= ep and item in profiles_test[user]:\n",
    "              validity[ep] += 1/len(profiles_test[user])\n",
    "            if p_val[item] > ep and item not in profiles_test[user]: \n",
    "              efficiency[ep] += 1/len(rec_candidates)\n",
    "              \n",
    "      ins += G\n",
    "      clear_output()\n",
    "      print(\"Instance :\",ins)\n",
    "      print(\"Run :\",run+1)\n",
    "      \n",
    "  for ep in epsilon:\n",
    "    validity[ep] /= (USERS * Rounds)\n",
    "    efficiency[ep] /= (USERS * Rounds) \n",
    "      \n",
    "  return epsilon,validity,efficiency"
   ]
  },
  {
   "cell_type": "markdown",
   "metadata": {},
   "source": [
    "# Validity and Efficiency for group sizes 1-5"
   ]
  },
  {
   "cell_type": "code",
   "execution_count": 8,
   "metadata": {},
   "outputs": [
    {
     "name": "stdout",
     "output_type": "stream",
     "text": [
      "Instance : 940\n",
      "Run : 5\n"
     ]
    }
   ],
   "source": [
    "b = main(4,10,5)"
   ]
  },
  {
   "cell_type": "code",
   "execution_count": 11,
   "metadata": {},
   "outputs": [],
   "source": [
    "def plot(x,y,l):\n",
    "  plt.plot(x,y.values(),label=\"Group size:\"+str(l))\n",
    "  plt.legend()\n",
    "  plt.xlabel(\"ε\")\n",
    "  plt.ylabel(\"Error1\")\n",
    "  plt.show()"
   ]
  },
  {
   "cell_type": "code",
   "execution_count": 15,
   "metadata": {},
   "outputs": [
    {
     "data": {
      "image/png": "[encoded data removed]",
      "text/plain": [
       "<Figure size 432x288 with 1 Axes>"
      ]
     },
     "metadata": {
      "needs_background": "light"
     },
     "output_type": "display_data"
    }
   ],
   "source": [
    "plot(b[0],b[1],4)"
   ]
  },
  {
   "cell_type": "code",
   "execution_count": 16,
   "metadata": {},
   "outputs": [],
   "source": [
    "def plot(x,y,l):\n",
    "  plt.plot(x,y.values(),label=\"Group size:\"+str(l))\n",
    "  plt.legend()\n",
    "  plt.xlabel(\"ε\")\n",
    "  plt.ylabel(\"Error2\")\n",
    "  plt.show()"
   ]
  },
  {
   "cell_type": "code",
   "execution_count": 17,
   "metadata": {},
   "outputs": [
    {
     "data": {
      "image/png": "[encoded data removed]",
      "text/plain": [
       "<Figure size 432x288 with 1 Axes>"
      ]
     },
     "metadata": {
      "needs_background": "light"
     },
     "output_type": "display_data"
    }
   ],
   "source": [
    "plot(b[0],b[2],4)"
   ]
  },
  {
   "cell_type": "code",
   "execution_count": 18,
   "metadata": {},
   "outputs": [],
   "source": [
    "import dill\n",
    "dill.dump_session('val_eff4.db')"
   ]
  }
 ],
 "metadata": {
  "kernelspec": {
   "display_name": "Python 3",
   "language": "python",
   "name": "python3"
  },
  "language_info": {
   "codemirror_mode": {
    "name": "ipython",
    "version": 3
   },
   "file_extension": ".py",
   "mimetype": "text/x-python",
   "name": "python",
   "nbconvert_exporter": "python",
   "pygments_lexer": "ipython3",
   "version": "3.7.1"
  }
 },
 "nbformat": 4,
 "nbformat_minor": 4
}
